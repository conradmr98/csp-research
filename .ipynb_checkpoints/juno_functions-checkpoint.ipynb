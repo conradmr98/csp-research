{
 "cells": [
  {
   "cell_type": "code",
   "execution_count": 1,
   "metadata": {},
   "outputs": [],
   "source": [
    "%matplotlib inline\n",
    "import math as m; import numpy as np; import matplotlib.pyplot as plt; import matplotlib.colors\n",
    "import pandas as pd; import os; import pathlib; import string; import datetime; import h5py\n",
    "\n",
    "directory = 'D:\\\\Jupiter_satellites_data\\\\'\n",
    "directory = 'C:\\\\Users\\\\jacob\\\\Documents\\\\Boston University\\\\Astronomy PhD\\\\Research\\\\Wen Li Group\\\\csp-research\\\\juno_data\\\\'"
   ]
  },
  {
   "cell_type": "code",
   "execution_count": 3,
   "metadata": {},
   "outputs": [],
   "source": [
    "def find_coords(juno_t_array, moon_indices):\n",
    "    d_eq_list = np.array([]); MS_list = np.array([]); MLAT_list = np.array([]); MLT_list = np.array([]); \n",
    "    for i, juno_t_str in zip(moon_indices, juno_t_array):\n",
    "        # set moon labels, criteria, radii, and years\n",
    "        sat_list = ['Io', 'Europa', 'Ganymede']\n",
    "        d_eq_VAR = [75, 75, 75]\n",
    "        RI = 0.0261 # Io radius in RJ\n",
    "        RE = 0.0223 # Europa radius in RJ\n",
    "        RG = 0.0377 # Ganymede radius in RJ\n",
    "        R_list = np.array([RI, RE, RG]); R_labels = np.array(['RI', 'RE', 'RG'])\n",
    "        years = np.arange(2016, 2022+1)\n",
    "    \n",
    "        # read in M-Shell data from Xiaochen code\n",
    "        XC_file = 'jupiterMoonsJunoMShell_ALL_v1.0.txt'\n",
    "        XC_fields = ['Year', 'Month', 'Date', 'Hour', 'Minute', 'Juno_MSHELL', 'Io_MSHELL', 'Europa_MSHELL', 'Ganymede_MSHELL']\n",
    "        XC_data = pd.read_csv(directory + XC_file, names = XC_fields, usecols = XC_fields, sep = '\\s+', header = 5)\n",
    "        yyyy_XC = XC_data['Year'].values; mm_XC = XC_data['Month'].values; dd_XC = XC_data['Date'].values;\n",
    "        hh_XC = XC_data['Hour'].values; mn_XC = XC_data['Minute'].values; MSHELL_Juno = XC_data['Juno_MSHELL'].values;\n",
    "        MSHELL_Io = XC_data['Io_MSHELL'].values; MSHELL_Europa = XC_data['Europa_MSHELL'].values;\n",
    "        MSHELL_Ganymede = XC_data['Ganymede_MSHELL'].values\n",
    "    \n",
    "        # read in MLT and MLAT data from Xiaochen data file\n",
    "        yyyy_pos = np.array([]); mm_pos = np.array([]); dd_pos = np.array([]); hh_pos = np.array([]); mn_pos = np.array([]);\n",
    "        MLAT_Juno = np.array([]); MLT_Juno = np.array([]); MLAT_Io = np.array([]); MLT_Io = np.array([]);\n",
    "        MLAT_Europa = np.array([]); MLT_Europa = np.array([]); MLAT_Ganymede = np.array([]); MLT_Ganymede = np.array([]);\n",
    "        for year in years:\n",
    "            pos_file = f'jupiterMoonsMLTMLATInfo_{year}_v1.0.txt'\n",
    "            pos_fields = ['Year', 'Month', 'Date', 'Hour', 'Minute', 'MLAT_Juno [degree]', 'MLT_Juno [hr]','MLAT_Io [degree]', \\\n",
    "                      'MLT_Io [hr]','MLAT_Europa [degree]', 'MLT_Europa [hr]', 'MLAT_Ganymede [degree]', 'MLT_Ganymede [hr]']\n",
    "            pos_data = pd.read_csv(directory + pos_file, names = pos_fields, usecols = pos_fields, sep = '\\s+', header = 10)\n",
    "            # add to full list\n",
    "            yyyy_pos_i = pos_data['Year'].values; mm_pos_i = pos_data['Month'].values;\n",
    "            dd_pos_i = pos_data['Date'].values; hh_pos_i = pos_data['Hour'].values; mn_pos_i = pos_data['Minute'].values;\n",
    "            MLAT_Juno_i = pos_data['MLAT_Juno [degree]'].values; MLT_Juno_i = pos_data['MLT_Juno [hr]'].values;\n",
    "            MLAT_Io_i = pos_data['MLAT_Io [degree]'].values; MLT_Io_i = pos_data['MLT_Io [hr]'].values;\n",
    "            MLAT_Europa_i = pos_data['MLAT_Europa [degree]'].values; MLT_Europa_i = pos_data['MLT_Europa [hr]'].values;\n",
    "            MLAT_Ganymede_i = pos_data['MLAT_Ganymede [degree]'].values; MLT_Ganymede_i = pos_data['MLT_Ganymede [hr]'].values;\n",
    "            yyyy_pos = np.append(yyyy_pos, yyyy_pos_i); mm_pos = np.append(mm_pos, mm_pos_i);\n",
    "            dd_pos = np.append(dd_pos, dd_pos_i); hh_pos = np.append(hh_pos, hh_pos_i); mn_pos = np.append(mn_pos, mn_pos_i);\n",
    "            MLAT_Juno = np.append(MLAT_Juno, MLAT_Juno_i); MLT_Juno = np.append(MLT_Juno, MLT_Juno_i); \n",
    "            MLAT_Io = np.append(MLAT_Io, MLAT_Io_i); MLT_Io = np.append(MLT_Io, MLT_Io_i);\n",
    "            MLAT_Europa = np.append(MLAT_Europa, MLAT_Europa_i); MLT_Europa = np.append(MLT_Europa, MLT_Europa_i);\n",
    "            MLAT_Ganymede = np.append(MLAT_Ganymede, MLAT_Ganymede_i); MLT_Ganymede = np.append(MLT_Ganymede, MLT_Ganymede_i);\n",
    "\n",
    "        # define time index\n",
    "        round_mn = round(int(juno_t_str[14:16])/30)*30\n",
    "        round_hh = int(juno_t_str[11:13])\n",
    "        if round_mn > 45:\n",
    "            round_mn = 0\n",
    "            round_hh = int(juno_t_str[11:13]) + 1\n",
    "            if round_hh >= 24:\n",
    "                print('find_coords function has encountered an error: minute rounding break')\n",
    "        t_index_XC = (yyyy_XC == int(juno_t_str[0:4])) & (mm_XC == int(juno_t_str[5:7])) & (dd_XC == int(juno_t_str[8:10])) & (hh_XC == round_hh) & (mn_XC == round_mn)\n",
    "        t_index_pos = (yyyy_pos == int(juno_t_str[0:4])) & (mm_pos == int(juno_t_str[5:7])) & (dd_pos == int(juno_t_str[8:10])) & (hh_pos == int(juno_t_str[11:13])) & (mn_pos == int(juno_t_str[14:16]))\n",
    "        # find d_eq, M-shell, MLT, and MLAT for Juno\n",
    "        MSHELL_Sat = np.array([MSHELL_Io[t_index_XC], MSHELL_Europa[t_index_XC], MSHELL_Ganymede[t_index_XC]])\n",
    "        MLT_Sat = np.array([MLT_Io[t_index_pos], MLT_Europa[t_index_pos], MLT_Ganymede[t_index_pos]])\n",
    "        x_Sat = MSHELL_Sat[i]*np.cos(MLT_Sat[i]*(np.pi/12))/R_list[i]\n",
    "        y_Sat = MSHELL_Sat[i]*np.sin(MLT_Sat[i]*(np.pi/12))/R_list[i]\n",
    "        x_Juno = MSHELL_Juno[t_index_XC]*np.cos(MLT_Juno[t_index_pos]*(np.pi/12))/R_list[i]\n",
    "        y_Juno = MSHELL_Juno[t_index_XC]*np.sin(MLT_Juno[t_index_pos]*(np.pi/12))/R_list[i]\n",
    "\n",
    "        d_eq = np.sqrt((x_Juno - x_Sat)**2 + (y_Juno - y_Sat)**2)[0]; MS = MSHELL_Juno[t_index_XC][0]; MLAT = MLAT_Juno[t_index_pos][0]; MLT = MLT_Juno[t_index_pos][0]\n",
    "        d_eq_list = np.append(d_eq_list, d_eq); MS_list = np.append(MS_list, MS); MLAT_list = np.append(MLAT_list, MLAT); MLT_list = np.append(MLT_list, MLT);\n",
    "    return d_eq_list, MS_list, MLAT_list, MLT_list"
   ]
  },
  {
   "cell_type": "code",
   "execution_count": 3,
   "metadata": {},
   "outputs": [],
   "source": [
    "juno_t_array = np.array(['2022-04-09/12:15'])\n",
    "moon_indices = np.array([0])\n",
    "d_eq_list, MS_list, MLAT_list, MLT_list = find_coords(juno_t_array, moon_indices)"
   ]
  },
  {
   "cell_type": "code",
   "execution_count": 4,
   "metadata": {},
   "outputs": [
    {
     "name": "stdout",
     "output_type": "stream",
     "text": [
      "26.352365253440716, 6.6097565000000005, 16.63, 19.65\n"
     ]
    }
   ],
   "source": [
    "print(f'{d_eq_list[0]}, {MS_list[0]}, {MLAT_list[0]}, {MLT_list[0]}')"
   ]
  },
  {
   "cell_type": "code",
   "execution_count": null,
   "metadata": {},
   "outputs": [],
   "source": []
  }
 ],
 "metadata": {
  "kernelspec": {
   "display_name": "Python 3",
   "language": "python",
   "name": "python3"
  },
  "language_info": {
   "codemirror_mode": {
    "name": "ipython",
    "version": 3
   },
   "file_extension": ".py",
   "mimetype": "text/x-python",
   "name": "python",
   "nbconvert_exporter": "python",
   "pygments_lexer": "ipython3",
   "version": "3.8.3"
  }
 },
 "nbformat": 4,
 "nbformat_minor": 4
}
