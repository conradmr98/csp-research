{
 "cells": [
  {
   "cell_type": "code",
   "execution_count": 1,
   "metadata": {},
   "outputs": [],
   "source": [
    "%matplotlib inline\n",
    "import math as m; import numpy as np; import matplotlib.pyplot as plt; import matplotlib.colors\n",
    "import pandas as pd; import os; import pathlib; import string; import datetime; import h5py\n",
    "\n",
    "directory = 'D:\\\\Jupiter_satellites_data\\\\'"
   ]
  },
  {
   "cell_type": "code",
   "execution_count": 2,
   "metadata": {},
   "outputs": [],
   "source": [
    "# moon data\n",
    "sat_list = ['Io', 'Europa', 'Ganymede']\n",
    "d_eq_VAR = [50, 50, 25]\n",
    "\n",
    "RG = 0.0377 # Ganymede radius in RJ\n",
    "RE = 0.0223 # Europa radius in RJ\n",
    "RI = 0.0261 # Io radius in RJ\n",
    "\n",
    "R_list = np.array([RI, RE, RG])\n",
    "R_labels = np.array(['RI', 'RE', 'RG'])"
   ]
  },
  {
   "cell_type": "code",
   "execution_count": 3,
   "metadata": {},
   "outputs": [],
   "source": [
    "# M-Shell data from Qianli code\n",
    "# read in Juno M-shell data\n",
    "QM_file = 'junoMshellJRM33Con2020_v1.0.txt'\n",
    "QM_fields = ['Year', 'Month', 'Date', 'Hour', 'Minute', 'M-shell']\n",
    "QM_data = pd.read_csv(directory + QM_file, names = QM_fields, usecols = QM_fields, sep = '\\s+', header = 5)\n",
    "\n",
    "# find dt_QM and MSHELL_QM\n",
    "dt_QM = np.array([])\n",
    "for i in np.arange(len(QM_data['Year'].values)):\n",
    "    dt_QM_i = datetime.datetime(QM_data['Year'].values[i], QM_data['Month'].values[i], QM_data['Date'].values[i],\\\n",
    "                                QM_data['Hour'].values[i], QM_data['Minute'].values[i])\n",
    "    dt_QM = np.append(dt_QM, dt_QM_i)\n",
    "    \n",
    "MShell_QM = QM_data['M-shell'].values"
   ]
  },
  {
   "cell_type": "code",
   "execution_count": 4,
   "metadata": {},
   "outputs": [],
   "source": [
    "# M-Shell data from Iowa site\n",
    "PJ_list = np.array([])\n",
    "length = 34\n",
    "for PJ in np.arange(length+1):\n",
    "    PJ_i = '{:0>2}'.format(PJ)\n",
    "    PJ_list = np.append(PJ_list, PJ_i)\n",
    "\n",
    "dt_IOWA = np.array([])\n",
    "MShell_Io = np.array([])\n",
    "MShell_Europa = np.array([])\n",
    "MShell_Ganymede = np.array([])\n",
    "for i in np.arange(len(PJ_list)):\n",
    "    # define PJ data filename\n",
    "    PJ_num = PJ_list[i]\n",
    "    file = 'JunoFoot_PJ' + PJ_num + '_20200126_all'\n",
    "\n",
    "    # list of key names for data to extract\n",
    "    key_list = ['MShell', 'IoMShell', 'EuMShell','GaMShell','TimeUTC']\n",
    "\n",
    "    filename = directory + file + '.hdf5'\n",
    "    with h5py.File(filename, \"r\") as f:\n",
    "        dt_array = np.empty((0,len(f[list(f.keys())[0]][()])), dtype=datetime.datetime)\n",
    "        ft_array = np.empty((0,len(f[list(f.keys())[0]][()])), dtype=float)\n",
    "    \n",
    "        for j in np.arange(len(key_list)):\n",
    "            data_key_j = list(f.keys())[list(f.keys()).index(key_list[j])]\n",
    "            data_row_j = f[data_key_j][()]  # returns as a numpy array for row j\n",
    "        \n",
    "            if type(f[data_key_j][()][0]) == np.float64:\n",
    "                data_row_j = [f[data_key_j][()]]\n",
    "                ft_array = np.concatenate((ft_array, data_row_j), axis=0)\n",
    "            \n",
    "            if type(f[data_key_j][()][0]) == np.bytes_:\n",
    "                data_row_j = [[datetime.datetime.strptime(bytes_str.decode('utf-8'), '%Y-%m-%dT%H:%M:%S.%fZ') \\\n",
    "                          for bytes_str in f[data_key_j][()]]]\n",
    "                dt_array = np.concatenate((dt_array, data_row_j), axis=0)\n",
    "            \n",
    "            if (type(f[data_key_j][()][0]) != np.bytes_) & (type(f[data_key_j][()][0]) != np.float64):\n",
    "                print('DATATYPE ISSUE -> CODE BREAK')\n",
    "                break\n",
    "\n",
    "    # fix dt_array and ft_array dims\n",
    "    datetime_pj = dt_array[0]; MShell_Io_pj = ft_array[1,:]; MShell_Europa_pj = ft_array[2,:];\n",
    "    MShell_Ganymede_pj = ft_array[3,:]\n",
    "    \n",
    "    # append to total array\n",
    "    dt_IOWA = np.append(dt_IOWA, datetime_pj); MShell_Io = np.append(MShell_Io, MShell_Io_pj);\n",
    "    MShell_Europa = np.append(MShell_Europa, MShell_Europa_pj); MShell_Ganymede = np.append(MShell_Ganymede, MShell_Ganymede_pj)"
   ]
  },
  {
   "cell_type": "code",
   "execution_count": 5,
   "metadata": {},
   "outputs": [],
   "source": [
    "dt_QM_trim = np.array([value for value in dt_QM if value in dt_IOWA])\n",
    "\n",
    "MShell_QM_trim = np.array([])\n",
    "for i in np.arange(len(dt_QM_trim)):\n",
    "    MShell_QM_i = MShell_QM[dt_QM == dt_QM_trim[i]]\n",
    "    MShell_QM_trim = np.append(MShell_QM_trim, MShell_QM_i)"
   ]
  },
  {
   "cell_type": "code",
   "execution_count": 6,
   "metadata": {},
   "outputs": [],
   "source": [
    "dt_IOWA_trim = np.array([value for value in dt_IOWA if value in dt_QM_trim])\n",
    "\n",
    "MShell_Io_trim = np.array([])\n",
    "MShell_Europa_trim = np.array([])\n",
    "MShell_Ganymede_trim = np.array([])\n",
    "for i in np.arange(len(dt_IOWA_trim)):\n",
    "    MShell_Io_i = MShell_Io[dt_IOWA == dt_IOWA_trim[i]]\n",
    "    MShell_Europa_i = MShell_Europa[dt_IOWA == dt_IOWA_trim[i]]\n",
    "    MShell_Ganymede_i = MShell_Ganymede[dt_IOWA == dt_IOWA_trim[i]]\n",
    "    \n",
    "    MShell_Io_trim = np.append(MShell_Io_trim, MShell_Io_i)\n",
    "    MShell_Europa_trim = np.append(MShell_Europa_trim, MShell_Europa_i)\n",
    "    MShell_Ganymede_trim = np.append(MShell_Ganymede_trim, MShell_Ganymede_i)"
   ]
  },
  {
   "cell_type": "code",
   "execution_count": 7,
   "metadata": {},
   "outputs": [
    {
     "data": {
      "text/html": [
       "<div>\n",
       "<style scoped>\n",
       "    .dataframe tbody tr th:only-of-type {\n",
       "        vertical-align: middle;\n",
       "    }\n",
       "\n",
       "    .dataframe tbody tr th {\n",
       "        vertical-align: top;\n",
       "    }\n",
       "\n",
       "    .dataframe thead th {\n",
       "        text-align: right;\n",
       "    }\n",
       "</style>\n",
       "<table border=\"1\" class=\"dataframe\">\n",
       "  <thead>\n",
       "    <tr style=\"text-align: right;\">\n",
       "      <th></th>\n",
       "      <th>Year</th>\n",
       "      <th>Month</th>\n",
       "      <th>Date</th>\n",
       "      <th>Hour</th>\n",
       "      <th>Minute</th>\n",
       "      <th>Juno_MSHELL</th>\n",
       "      <th>Io_MSHELL</th>\n",
       "      <th>Europa_MSHELL</th>\n",
       "      <th>Ganymede_MSHELL</th>\n",
       "    </tr>\n",
       "  </thead>\n",
       "  <tbody>\n",
       "    <tr>\n",
       "      <th>0</th>\n",
       "      <td>2016.0</td>\n",
       "      <td>7.0</td>\n",
       "      <td>4.0</td>\n",
       "      <td>19.0</td>\n",
       "      <td>30.0</td>\n",
       "      <td>18.669259</td>\n",
       "      <td>6.120674</td>\n",
       "      <td>9.358090</td>\n",
       "      <td>15.468586</td>\n",
       "    </tr>\n",
       "    <tr>\n",
       "      <th>1</th>\n",
       "      <td>2016.0</td>\n",
       "      <td>7.0</td>\n",
       "      <td>4.0</td>\n",
       "      <td>20.0</td>\n",
       "      <td>0.0</td>\n",
       "      <td>16.557774</td>\n",
       "      <td>6.074976</td>\n",
       "      <td>9.366663</td>\n",
       "      <td>16.119843</td>\n",
       "    </tr>\n",
       "    <tr>\n",
       "      <th>2</th>\n",
       "      <td>2016.0</td>\n",
       "      <td>7.0</td>\n",
       "      <td>4.0</td>\n",
       "      <td>20.0</td>\n",
       "      <td>30.0</td>\n",
       "      <td>15.665163</td>\n",
       "      <td>6.013309</td>\n",
       "      <td>9.435064</td>\n",
       "      <td>16.877106</td>\n",
       "    </tr>\n",
       "    <tr>\n",
       "      <th>3</th>\n",
       "      <td>2016.0</td>\n",
       "      <td>7.0</td>\n",
       "      <td>4.0</td>\n",
       "      <td>21.0</td>\n",
       "      <td>0.0</td>\n",
       "      <td>15.511280</td>\n",
       "      <td>5.957839</td>\n",
       "      <td>9.552136</td>\n",
       "      <td>17.450797</td>\n",
       "    </tr>\n",
       "    <tr>\n",
       "      <th>4</th>\n",
       "      <td>2016.0</td>\n",
       "      <td>7.0</td>\n",
       "      <td>4.0</td>\n",
       "      <td>21.0</td>\n",
       "      <td>30.0</td>\n",
       "      <td>16.092956</td>\n",
       "      <td>5.924944</td>\n",
       "      <td>9.691968</td>\n",
       "      <td>17.534278</td>\n",
       "    </tr>\n",
       "    <tr>\n",
       "      <th>...</th>\n",
       "      <td>...</td>\n",
       "      <td>...</td>\n",
       "      <td>...</td>\n",
       "      <td>...</td>\n",
       "      <td>...</td>\n",
       "      <td>...</td>\n",
       "      <td>...</td>\n",
       "      <td>...</td>\n",
       "      <td>...</td>\n",
       "    </tr>\n",
       "    <tr>\n",
       "      <th>2144</th>\n",
       "      <td>2024.0</td>\n",
       "      <td>12.0</td>\n",
       "      <td>28.0</td>\n",
       "      <td>6.0</td>\n",
       "      <td>30.0</td>\n",
       "      <td>5.468165</td>\n",
       "      <td>5.884976</td>\n",
       "      <td>9.316121</td>\n",
       "      <td>15.261740</td>\n",
       "    </tr>\n",
       "    <tr>\n",
       "      <th>2145</th>\n",
       "      <td>2024.0</td>\n",
       "      <td>12.0</td>\n",
       "      <td>28.0</td>\n",
       "      <td>7.0</td>\n",
       "      <td>0.0</td>\n",
       "      <td>2.475210</td>\n",
       "      <td>5.888257</td>\n",
       "      <td>9.386724</td>\n",
       "      <td>15.808845</td>\n",
       "    </tr>\n",
       "    <tr>\n",
       "      <th>2146</th>\n",
       "      <td>2024.0</td>\n",
       "      <td>12.0</td>\n",
       "      <td>28.0</td>\n",
       "      <td>7.0</td>\n",
       "      <td>30.0</td>\n",
       "      <td>1.369260</td>\n",
       "      <td>5.919017</td>\n",
       "      <td>9.508378</td>\n",
       "      <td>16.518592</td>\n",
       "    </tr>\n",
       "    <tr>\n",
       "      <th>2147</th>\n",
       "      <td>2024.0</td>\n",
       "      <td>12.0</td>\n",
       "      <td>28.0</td>\n",
       "      <td>8.0</td>\n",
       "      <td>0.0</td>\n",
       "      <td>3.426325</td>\n",
       "      <td>5.965176</td>\n",
       "      <td>9.652181</td>\n",
       "      <td>17.147029</td>\n",
       "    </tr>\n",
       "    <tr>\n",
       "      <th>2148</th>\n",
       "      <td>2024.0</td>\n",
       "      <td>12.0</td>\n",
       "      <td>28.0</td>\n",
       "      <td>8.0</td>\n",
       "      <td>30.0</td>\n",
       "      <td>8.510036</td>\n",
       "      <td>6.009422</td>\n",
       "      <td>9.781912</td>\n",
       "      <td>17.405576</td>\n",
       "    </tr>\n",
       "  </tbody>\n",
       "</table>\n",
       "<p>2149 rows × 9 columns</p>\n",
       "</div>"
      ],
      "text/plain": [
       "        Year  Month  Date  Hour  Minute  Juno_MSHELL  Io_MSHELL  \\\n",
       "0     2016.0    7.0   4.0  19.0    30.0    18.669259   6.120674   \n",
       "1     2016.0    7.0   4.0  20.0     0.0    16.557774   6.074976   \n",
       "2     2016.0    7.0   4.0  20.0    30.0    15.665163   6.013309   \n",
       "3     2016.0    7.0   4.0  21.0     0.0    15.511280   5.957839   \n",
       "4     2016.0    7.0   4.0  21.0    30.0    16.092956   5.924944   \n",
       "...      ...    ...   ...   ...     ...          ...        ...   \n",
       "2144  2024.0   12.0  28.0   6.0    30.0     5.468165   5.884976   \n",
       "2145  2024.0   12.0  28.0   7.0     0.0     2.475210   5.888257   \n",
       "2146  2024.0   12.0  28.0   7.0    30.0     1.369260   5.919017   \n",
       "2147  2024.0   12.0  28.0   8.0     0.0     3.426325   5.965176   \n",
       "2148  2024.0   12.0  28.0   8.0    30.0     8.510036   6.009422   \n",
       "\n",
       "      Europa_MSHELL  Ganymede_MSHELL  \n",
       "0          9.358090        15.468586  \n",
       "1          9.366663        16.119843  \n",
       "2          9.435064        16.877106  \n",
       "3          9.552136        17.450797  \n",
       "4          9.691968        17.534278  \n",
       "...             ...              ...  \n",
       "2144       9.316121        15.261740  \n",
       "2145       9.386724        15.808845  \n",
       "2146       9.508378        16.518592  \n",
       "2147       9.652181        17.147029  \n",
       "2148       9.781912        17.405576  \n",
       "\n",
       "[2149 rows x 9 columns]"
      ]
     },
     "execution_count": 7,
     "metadata": {},
     "output_type": "execute_result"
    }
   ],
   "source": [
    "# M-Shell data from Xiaochen code\n",
    "# read in Juno M-shell data\n",
    "XC_file = 'jupiterMoonsJunoMShell_ALL_v1.0.txt'\n",
    "XC_fields = ['Year', 'Month', 'Date', 'Hour', 'Minute', 'Juno_MSHELL', 'Io_MSHELL', 'Europa_MSHELL', 'Ganymede_MSHELL']\n",
    "XC_data = pd.read_csv(directory + XC_file, names = XC_fields, usecols = XC_fields, sep = '\\s+', header = 5)\n",
    "XC_data"
   ]
  },
  {
   "cell_type": "code",
   "execution_count": 8,
   "metadata": {},
   "outputs": [],
   "source": [
    "dt_XC = np.array([])\n",
    "\n",
    "for i in np.arange(len(XC_data['Year'].values)):\n",
    "    dt_XC_i = datetime.datetime(int(XC_data['Year'].values[i]), int(XC_data['Month'].values[i]), \\\n",
    "                                int(XC_data['Date'].values[i]), int(XC_data['Hour'].values[i]), \\\n",
    "                                int(XC_data['Minute'].values[i]))\n",
    "    dt_XC = np.append(dt_XC, dt_XC_i)"
   ]
  },
  {
   "cell_type": "code",
   "execution_count": 9,
   "metadata": {},
   "outputs": [],
   "source": [
    "Juno_MShell = XC_data['Juno_MSHELL'].values\n",
    "Io_MShell = XC_data['Io_MSHELL'].values\n",
    "Europa_MShell = XC_data['Europa_MSHELL'].values\n",
    "Ganymede_MShell = XC_data['Ganymede_MSHELL'].values\n",
    "\n",
    "#for i in np.arange(len(XC_data['Year'].values)):\n",
    "#    print(f'Time: {dt_XC[i]} | M-shell = {Juno_MShell[i]}')"
   ]
  },
  {
   "cell_type": "code",
   "execution_count": null,
   "metadata": {},
   "outputs": [],
   "source": []
  },
  {
   "cell_type": "code",
   "execution_count": 13,
   "metadata": {
    "scrolled": false
   },
   "outputs": [
    {
     "data": {
      "image/png": "[encoded data removed]",
      "text/plain": [
       "<Figure size 1080x432 with 1 Axes>"
      ]
     },
     "metadata": {
      "needs_background": "light"
     },
     "output_type": "display_data"
    },
    {
     "data": {
      "image/png": "[encoded data removed]",
      "text/plain": [
       "<Figure size 1080x432 with 1 Axes>"
      ]
     },
     "metadata": {
      "needs_background": "light"
     },
     "output_type": "display_data"
    },
    {
     "data": {
      "image/png": "[encoded data removed]",
      "text/plain": [
       "<Figure size 1080x432 with 1 Axes>"
      ]
     },
     "metadata": {
      "needs_background": "light"
     },
     "output_type": "display_data"
    },
    {
     "data": {
      "image/png": "[encoded data removed]",
      "text/plain": [
       "<Figure size 1080x432 with 1 Axes>"
      ]
     },
     "metadata": {
      "needs_background": "light"
     },
     "output_type": "display_data"
    },
    {
     "data": {
      "image/png": "[encoded data removed]",
      "text/plain": [
       "<Figure size 1080x432 with 1 Axes>"
      ]
     },
     "metadata": {
      "needs_background": "light"
     },
     "output_type": "display_data"
    }
   ],
   "source": [
    "year = 2021; month = 6; \n",
    "start_dt = datetime.datetime(year,month,7,0,0)\n",
    "end_dt = datetime.datetime(year,month,8,0,0)\n",
    "\n",
    "mask = (dt_QM_trim >= start_dt) & (dt_QM_trim < end_dt)\n",
    "mask1 = (dt_XC >= start_dt) & (dt_XC < end_dt)\n",
    "max_x = end_dt\n",
    "min_x = start_dt\n",
    "max_y = 50\n",
    "min_y = 0\n",
    "\n",
    "# plot values\n",
    "plt.figure(figsize=(15,6))\n",
    "plt.title('AUTOPLOT Juno M-Shell Values')\n",
    "plt.scatter(dt_QM_trim[mask], MShell_QM_trim[mask])\n",
    "plt.xlim(min_x, max_x)\n",
    "plt.ylim(min_y, max_y)\n",
    "plt.grid()\n",
    "plt.show()\n",
    "\n",
    "plt.figure(figsize=(15,6))\n",
    "plt.title('Xiaochen Juno M-Shell Values')\n",
    "plt.scatter(dt_XC[mask1], Juno_MShell[mask1])\n",
    "plt.xlim(min_x, max_x)\n",
    "plt.ylim(min_y, max_y)\n",
    "plt.grid()\n",
    "plt.show()\n",
    "\n",
    "plt.figure(figsize=(15,6))\n",
    "plt.title('Io M-Shell Values')\n",
    "plt.scatter(dt_XC[mask1], Io_MShell[mask1])\n",
    "plt.xlim(min_x, max_x)\n",
    "plt.ylim(min_y, max_y)\n",
    "plt.grid()\n",
    "plt.show()\n",
    "\n",
    "plt.figure(figsize=(15,6))\n",
    "plt.title('Euorpa M-Shell Values')\n",
    "plt.scatter(dt_XC[mask1], Europa_MShell[mask1])\n",
    "plt.xlim(min_x, max_x)\n",
    "plt.ylim(min_y, max_y)\n",
    "plt.grid()\n",
    "plt.show()\n",
    "\n",
    "plt.figure(figsize=(15,6))\n",
    "plt.title('Ganymede M-Shell Values')\n",
    "plt.scatter(dt_XC[mask1], Ganymede_MShell[mask1])\n",
    "plt.xlim(min_x, max_x)\n",
    "plt.ylim(min_y, max_y)\n",
    "plt.grid()\n",
    "plt.show()"
   ]
  },
  {
   "cell_type": "code",
   "execution_count": 11,
   "metadata": {},
   "outputs": [
    {
     "name": "stdout",
     "output_type": "stream",
     "text": [
      "17.576036258599068\n",
      "5.872390946675489\n",
      "9.319367544569124\n",
      "14.937312351293649\n"
     ]
    }
   ],
   "source": [
    "print(np.mean(MShell_QM_trim[MShell_QM_trim < 50]))\n",
    "print(np.min(MShell_Io_trim))\n",
    "print(np.min(MShell_Europa_trim))\n",
    "print(np.min(MShell_Ganymede_trim))"
   ]
  },
  {
   "cell_type": "code",
   "execution_count": null,
   "metadata": {},
   "outputs": [],
   "source": []
  }
 ],
 "metadata": {
  "kernelspec": {
   "display_name": "Python 3",
   "language": "python",
   "name": "python3"
  },
  "language_info": {
   "codemirror_mode": {
    "name": "ipython",
    "version": 3
   },
   "file_extension": ".py",
   "mimetype": "text/x-python",
   "name": "python",
   "nbconvert_exporter": "python",
   "pygments_lexer": "ipython3",
   "version": "3.8.3"
  }
 },
 "nbformat": 4,
 "nbformat_minor": 4
}
