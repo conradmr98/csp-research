{
 "cells": [
  {
   "cell_type": "code",
   "execution_count": 1,
   "metadata": {},
   "outputs": [],
   "source": [
    "%matplotlib inline\n",
    "import math as m; import numpy as np; import matplotlib.pyplot as plt; import matplotlib.colors\n",
    "import pandas as pd; import os; import pathlib; import string; import datetime\n",
    "\n",
    "directory = 'C:\\\\Users\\\\jacob\\\\Documents\\\\Boston University\\\\Astronomy PhD\\\\Research\\\\Wen Li Group\\\\csp-research\\\\juno_data\\\\'"
   ]
  },
  {
   "cell_type": "code",
   "execution_count": null,
   "metadata": {},
   "outputs": [],
   "source": []
  }
 ],
 "metadata": {
  "kernelspec": {
   "display_name": "Python 3",
   "language": "python",
   "name": "python3"
  },
  "language_info": {
   "codemirror_mode": {
    "name": "ipython",
    "version": 3
   },
   "file_extension": ".py",
   "mimetype": "text/x-python",
   "name": "python",
   "nbconvert_exporter": "python",
   "pygments_lexer": "ipython3",
   "version": "3.8.3"
  }
 },
 "nbformat": 4,
 "nbformat_minor": 4
}
